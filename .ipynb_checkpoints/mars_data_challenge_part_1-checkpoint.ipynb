{
 "cells": [
  {
   "cell_type": "code",
   "execution_count": 1,
   "id": "ef4e391c",
   "metadata": {},
   "outputs": [],
   "source": [
    "from splinter import Browser\n",
    "from bs4 import BeautifulSoup as soup\n",
    "from webdriver_manager.chrome import ChromeDriverManager\n",
    "import pandas as pd\n",
    "import datetime as dt\n",
    "import json\n"
   ]
  },
  {
   "cell_type": "code",
   "execution_count": 2,
   "id": "96a02bc2",
   "metadata": {},
   "outputs": [
    {
     "name": "stderr",
     "output_type": "stream",
     "text": [
      "[WDM] - Downloading: 100%|████████████████████████████████████████████████████████| 6.46M/6.46M [00:03<00:00, 2.10MB/s]\n"
     ]
    }
   ],
   "source": [
    "executable_path = {'executable_path': ChromeDriverManager().install()}\n",
    "browser = Browser('chrome', **executable_path, headless=False)"
   ]
  },
  {
   "cell_type": "code",
   "execution_count": 3,
   "id": "3bbfa2ae",
   "metadata": {},
   "outputs": [
    {
     "data": {
      "text/plain": [
       "True"
      ]
     },
     "execution_count": 3,
     "metadata": {},
     "output_type": "execute_result"
    }
   ],
   "source": [
    "# Visit the Mars NASA news site\n",
    "url = 'https://redplanetscience.com/'\n",
    "browser.visit(url)\n",
    "# Optional delay for loading the page\n",
    "browser.is_element_present_by_css('div.list_text', wait_time=1)\n",
    "\n"
   ]
  },
  {
   "cell_type": "code",
   "execution_count": 4,
   "id": "0db605ca",
   "metadata": {},
   "outputs": [],
   "source": [
    "# html = browser.html\n",
    "# news_soup = soup(html, 'html.parser')\n",
    "# slide_elem = news_soup.select_one('div.list_text')\n",
    "# print(slide_elem)\n"
   ]
  },
  {
   "cell_type": "code",
   "execution_count": 5,
   "id": "ec0e3669",
   "metadata": {},
   "outputs": [
    {
     "data": {
      "text/plain": [
       "[<div class=\"content_title\">NASA's Perseverance Rover 100 Days Out</div>,\n",
       " <div class=\"content_title\">NASA Prepares for Moon and Mars With New Addition to Its Deep Space Network</div>,\n",
       " <div class=\"content_title\">Hear Audio From NASA's Perseverance As It Travels Through Deep Space</div>,\n",
       " <div class=\"content_title\">NASA's Curiosity Takes Selfie With 'Mary Anning' on the Red Planet</div>,\n",
       " <div class=\"content_title\">From JPL's Mailroom to Mars and Beyond</div>,\n",
       " <div class=\"content_title\">10.9 Million Names Now Aboard NASA's Perseverance Mars Rover</div>,\n",
       " <div class=\"content_title\">InSight's 'Mole' Team Peers into the Pit</div>,\n",
       " <div class=\"content_title\">NASA Invites Students to Name Mars 2020 Rover</div>,\n",
       " <div class=\"content_title\">NASA Engineers Checking InSight's Weather Sensors</div>,\n",
       " <div class=\"content_title\">Celebrate Mars Reconnaissance Orbiter's Views From Above</div>,\n",
       " <div class=\"content_title\">NASA Readies Perseverance Mars Rover's Earthly Twin </div>,\n",
       " <div class=\"content_title\">NASA's Mars 2020 Rover Closer to Getting Its Name</div>,\n",
       " <div class=\"content_title\">Mars Scientists Investigate Ancient Life in Australia</div>,\n",
       " <div class=\"content_title\">MOXIE Could Help Future Rockets Launch Off Mars</div>,\n",
       " <div class=\"content_title\">NASA's Perseverance Rover Will Peer Beneath Mars' Surface </div>]"
      ]
     },
     "execution_count": 5,
     "metadata": {},
     "output_type": "execute_result"
    }
   ],
   "source": [
    "html = browser.html\n",
    "news_soup = soup(html, 'html.parser')\n",
    "slide_elem={}\n",
    "slide_elem = news_soup.find_all('div', class_='content_title')\n",
    "slide_elem"
   ]
  },
  {
   "cell_type": "code",
   "execution_count": 6,
   "id": "ceec1dd6",
   "metadata": {},
   "outputs": [
    {
     "name": "stdout",
     "output_type": "stream",
     "text": [
      "Mark your calendars: The agency's latest rover has only about 8,640,000 seconds to go before it touches down on the Red Planet, becoming history's next Mars car.\n",
      "Robotic spacecraft will be able to communicate with the dish using radio waves and lasers.\n",
      "The first to be rigged with microphones, the agency's latest Mars rover picked up the subtle sounds of its own inner workings during interplanetary flight.\n",
      "The Mars rover has drilled three samples of rock in this clay-enriched region since arriving in July.\n",
      "Bill Allen has thrived as the mechanical systems design lead for three Mars rover missions, but he got his start as a teenager sorting letters for the NASA center.\n",
      "As part of NASA's 'Send Your Name to Mars' campaign, they've been stenciled onto three microchips along with essays from NASA's 'Name the Rover' contest. Next stop: Mars.\n",
      "Efforts to save the heat probe continue.\n",
      "Through Nov. 1, K-12 students in the U.S. are encouraged to enter an essay contest to name NASA's next Mars rover.\n",
      "An electronics issue is suspected to be preventing the sensors from sharing their data about Mars weather with the spacecraft.\n",
      "Marking its 15th anniversary since launch, one of the oldest spacecraft at the Red Planet has provided glimpses of dust devils, avalanches, and more.\n",
      "Did you know NASA's next Mars rover has a nearly identical sibling on Earth for testing? Even better, it's about to roll for the first time through a replica Martian landscape.\n",
      "155 students from across the U.S. have been chosen as semifinalists in NASA's essay contest to name the Mars 2020 rover, and see it launch from Cape Canaveral this July.\n",
      "Teams with NASA's Mars 2020 and ESA's ExoMars practiced hunting for fossilized microbial life in the Australian Outback in preparation for their Red Planet missions. \n",
      "NASA's Perseverance rover carries a device to convert Martian air into oxygen that, if produced on a larger scale, could be used not just for breathing, but also for fuel.\n",
      "The agency's newest rover will use the first ground-penetrating radar instrument on the Martian surface to help search for signs of past microbial life. \n"
     ]
    }
   ],
   "source": [
    "#type(titles)\n",
    "# Scrape all preview text on landing page\n",
    "preview_text = news_soup.find_all('div', class_='article_teaser_body')\n",
    "\n",
    "for text in preview_text: \n",
    "    print(text.text)"
   ]
  },
  {
   "cell_type": "code",
   "execution_count": 7,
   "id": "ede0d5bf",
   "metadata": {},
   "outputs": [
    {
     "data": {
      "text/plain": [
       "[{'title': \"NASA's Perseverance Rover 100 Days Out\",\n",
       "  'preview': \"Mark your calendars: The agency's latest rover has only about 8,640,000 seconds to go before it touches down on the Red Planet, becoming history's next Mars car.\"},\n",
       " {'title': 'NASA Prepares for Moon and Mars With New Addition to Its Deep Space Network',\n",
       "  'preview': 'Robotic spacecraft will be able to communicate with the dish using radio waves and lasers.'},\n",
       " {'title': \"Hear Audio From NASA's Perseverance As It Travels Through Deep Space\",\n",
       "  'preview': \"The first to be rigged with microphones, the agency's latest Mars rover picked up the subtle sounds of its own inner workings during interplanetary flight.\"},\n",
       " {'title': \"NASA's Curiosity Takes Selfie With 'Mary Anning' on the Red Planet\",\n",
       "  'preview': 'The Mars rover has drilled three samples of rock in this clay-enriched region since arriving in July.'},\n",
       " {'title': \"From JPL's Mailroom to Mars and Beyond\",\n",
       "  'preview': 'Bill Allen has thrived as the mechanical systems design lead for three Mars rover missions, but he got his start as a teenager sorting letters for the NASA center.'},\n",
       " {'title': \"10.9 Million Names Now Aboard NASA's Perseverance Mars Rover\",\n",
       "  'preview': \"As part of NASA's 'Send Your Name to Mars' campaign, they've been stenciled onto three microchips along with essays from NASA's 'Name the Rover' contest. Next stop: Mars.\"},\n",
       " {'title': \"InSight's 'Mole' Team Peers into the Pit\",\n",
       "  'preview': 'Efforts to save the heat probe continue.'},\n",
       " {'title': 'NASA Invites Students to Name Mars 2020 Rover',\n",
       "  'preview': \"Through Nov. 1, K-12 students in the U.S. are encouraged to enter an essay contest to name NASA's next Mars rover.\"},\n",
       " {'title': \"NASA Engineers Checking InSight's Weather Sensors\",\n",
       "  'preview': 'An electronics issue is suspected to be preventing the sensors from sharing their data about Mars weather with the spacecraft.'},\n",
       " {'title': \"Celebrate Mars Reconnaissance Orbiter's Views From Above\",\n",
       "  'preview': 'Marking its 15th anniversary since launch, one of the oldest spacecraft at the Red Planet has provided glimpses of dust devils, avalanches, and more.'},\n",
       " {'title': \"NASA Readies Perseverance Mars Rover's Earthly Twin \",\n",
       "  'preview': \"Did you know NASA's next Mars rover has a nearly identical sibling on Earth for testing? Even better, it's about to roll for the first time through a replica Martian landscape.\"},\n",
       " {'title': \"NASA's Mars 2020 Rover Closer to Getting Its Name\",\n",
       "  'preview': \"155 students from across the U.S. have been chosen as semifinalists in NASA's essay contest to name the Mars 2020 rover, and see it launch from Cape Canaveral this July.\"},\n",
       " {'title': 'Mars Scientists Investigate Ancient Life in Australia',\n",
       "  'preview': \"Teams with NASA's Mars 2020 and ESA's ExoMars practiced hunting for fossilized microbial life in the Australian Outback in preparation for their Red Planet missions. \"},\n",
       " {'title': 'MOXIE Could Help Future Rockets Launch Off Mars',\n",
       "  'preview': \"NASA's Perseverance rover carries a device to convert Martian air into oxygen that, if produced on a larger scale, could be used not just for breathing, but also for fuel.\"},\n",
       " {'title': \"NASA's Perseverance Rover Will Peer Beneath Mars' Surface \",\n",
       "  'preview': \"The agency's newest rover will use the first ground-penetrating radar instrument on the Martian surface to help search for signs of past microbial life. \"}]"
      ]
     },
     "execution_count": 7,
     "metadata": {},
     "output_type": "execute_result"
    }
   ],
   "source": [
    "# Store each title and preview pair in python dictionary\n",
    "#{'title': \"Mars Rover Begins Mission!\", \n",
    "        #'preview': \"NASA's Mars Rover begins a multiyear mission to collect data about the little-explored planet.\"}\n",
    "\n",
    "put_it_together = []\n",
    "\n",
    "for i in range(len(slide_elem)): \n",
    "    put_it_together_items={} \n",
    "    put_it_together_items['title']= slide_elem[i].text \n",
    "    put_it_together_items['preview']= preview_text[i].text \n",
    "    put_it_together.append(put_it_together_items)\n",
    "\n",
    "put_it_together"
   ]
  },
  {
   "cell_type": "code",
   "execution_count": 8,
   "id": "728abe2e",
   "metadata": {},
   "outputs": [
    {
     "data": {
      "text/plain": [
       "list"
      ]
     },
     "execution_count": 8,
     "metadata": {},
     "output_type": "execute_result"
    }
   ],
   "source": [
    "type(put_it_together)"
   ]
  },
  {
   "cell_type": "code",
   "execution_count": 9,
   "id": "cf94ee81",
   "metadata": {},
   "outputs": [
    {
     "data": {
      "text/plain": [
       "'[{\"title\": \"NASA\\'s Perseverance Rover 100 Days Out\", \"preview\": \"Mark your calendars: The agency\\'s latest rover has only about 8,640,000 seconds to go before it touches down on the Red Planet, becoming history\\'s next Mars car.\"}, {\"title\": \"NASA Prepares for Moon and Mars With New Addition to Its Deep Space Network\", \"preview\": \"Robotic spacecraft will be able to communicate with the dish using radio waves and lasers.\"}, {\"title\": \"Hear Audio From NASA\\'s Perseverance As It Travels Through Deep Space\", \"preview\": \"The first to be rigged with microphones, the agency\\'s latest Mars rover picked up the subtle sounds of its own inner workings during interplanetary flight.\"}, {\"title\": \"NASA\\'s Curiosity Takes Selfie With \\'Mary Anning\\' on the Red Planet\", \"preview\": \"The Mars rover has drilled three samples of rock in this clay-enriched region since arriving in July.\"}, {\"title\": \"From JPL\\'s Mailroom to Mars and Beyond\", \"preview\": \"Bill Allen has thrived as the mechanical systems design lead for three Mars rover missions, but he got his start as a teenager sorting letters for the NASA center.\"}, {\"title\": \"10.9 Million Names Now Aboard NASA\\'s Perseverance Mars Rover\", \"preview\": \"As part of NASA\\'s \\'Send Your Name to Mars\\' campaign, they\\'ve been stenciled onto three microchips along with essays from NASA\\'s \\'Name the Rover\\' contest. Next stop: Mars.\"}, {\"title\": \"InSight\\'s \\'Mole\\' Team Peers into the Pit\", \"preview\": \"Efforts to save the heat probe continue.\"}, {\"title\": \"NASA Invites Students to Name Mars 2020 Rover\", \"preview\": \"Through Nov. 1, K-12 students in the U.S. are encouraged to enter an essay contest to name NASA\\'s next Mars rover.\"}, {\"title\": \"NASA Engineers Checking InSight\\'s Weather Sensors\", \"preview\": \"An electronics issue is suspected to be preventing the sensors from sharing their data about Mars weather with the spacecraft.\"}, {\"title\": \"Celebrate Mars Reconnaissance Orbiter\\'s Views From Above\", \"preview\": \"Marking its 15th anniversary since launch, one of the oldest spacecraft at the Red Planet has provided glimpses of dust devils, avalanches, and more.\"}, {\"title\": \"NASA Readies Perseverance Mars Rover\\'s Earthly Twin \", \"preview\": \"Did you know NASA\\'s next Mars rover has a nearly identical sibling on Earth for testing? Even better, it\\'s about to roll for the first time through a replica Martian landscape.\"}, {\"title\": \"NASA\\'s Mars 2020 Rover Closer to Getting Its Name\", \"preview\": \"155 students from across the U.S. have been chosen as semifinalists in NASA\\'s essay contest to name the Mars 2020 rover, and see it launch from Cape Canaveral this July.\"}, {\"title\": \"Mars Scientists Investigate Ancient Life in Australia\", \"preview\": \"Teams with NASA\\'s Mars 2020 and ESA\\'s ExoMars practiced hunting for fossilized microbial life in the Australian Outback in preparation for their Red Planet missions. \"}, {\"title\": \"MOXIE Could Help Future Rockets Launch Off Mars\", \"preview\": \"NASA\\'s Perseverance rover carries a device to convert Martian air into oxygen that, if produced on a larger scale, could be used not just for breathing, but also for fuel.\"}, {\"title\": \"NASA\\'s Perseverance Rover Will Peer Beneath Mars\\' Surface \", \"preview\": \"The agency\\'s newest rover will use the first ground-penetrating radar instrument on the Martian surface to help search for signs of past microbial life. \"}]'"
      ]
     },
     "execution_count": 9,
     "metadata": {},
     "output_type": "execute_result"
    }
   ],
   "source": [
    "jsonputittogether=json.dumps(put_it_together)\n",
    "jsonputittogether"
   ]
  },
  {
   "cell_type": "code",
   "execution_count": 10,
   "id": "ec83d26b",
   "metadata": {},
   "outputs": [],
   "source": [
    "jsonFile = open(\"put_it_together.json\", \"w\")\n",
    "jsonFile.write(jsonputittogether)\n",
    "jsonFile.close()\n",
    "\n"
   ]
  },
  {
   "cell_type": "code",
   "execution_count": null,
   "id": "19204b85",
   "metadata": {},
   "outputs": [],
   "source": []
  }
 ],
 "metadata": {
  "kernelspec": {
   "display_name": "PythonData",
   "language": "python",
   "name": "pythondata"
  },
  "language_info": {
   "codemirror_mode": {
    "name": "ipython",
    "version": 3
   },
   "file_extension": ".py",
   "mimetype": "text/x-python",
   "name": "python",
   "nbconvert_exporter": "python",
   "pygments_lexer": "ipython3",
   "version": "3.9.12"
  }
 },
 "nbformat": 4,
 "nbformat_minor": 5
}
